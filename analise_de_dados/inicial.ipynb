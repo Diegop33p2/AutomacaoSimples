{
 "cells": [
  {
   "cell_type": "markdown",
   "metadata": {},
   "source": [
    "# Python Insights - Analisando Dados com Python\n",
    "\n",
    "### Case - Cancelamento de Clientes\n",
    "\n",
    "Você foi contratado por uma empresa com mais de 800 mil clientes para um projeto de Dados. Recentemente a empresa percebeu que da sua base total de clientes, a maioria são clientes inativos, ou seja, que já cancelaram o serviço.\n",
    "\n",
    "Precisando melhorar seus resultados ela quer conseguir entender os principais motivos desses cancelamentos e quais as ações mais eficientes para reduzir esse número.\n",
    "\n",
    "Base de dados e arquivos: https://drive.google.com/drive/folders/1uDesZePdkhiraJmiyeZ-w5tfc8XsNYFZ?usp=drive_link"
   ]
  },
  {
   "cell_type": "code",
   "execution_count": null,
   "metadata": {},
   "outputs": [],
   "source": [
    "#passo a passo do projeto\n",
    "#passo 1: Importar a base de dados\n",
    "import pandas as pd\n",
    "tabela = pd.read_csv(\"cancelamentos_sample.csv\")\n",
    "\n",
    "#p 2: Vizualizar a base de dados\n",
    "tabela = tabela.drop(columns=\"CustomerID\") #excluindo uma coluna inutil\n",
    "display(tabela) #mesma coisa que o print so que imprimi de uma maneira de bd\n",
    "\n",
    "#verificar colunas inutes,valores vazios\n",
    "\n"
   ]
  },
  {
   "cell_type": "code",
   "execution_count": null,
   "metadata": {},
   "outputs": [],
   "source": [
    "#p 3: corrigir a base de dados\n",
    "#print(tabela.info())#informaçoes da tabela\n",
    "#valores vazios - excluir as linhas com valores vazios\n",
    "tabela = tabela.dropna() #analisa e exclui linhas com informações vazias,exclui a linha inteira\n",
    "#tabela = tabela.fillna()# preencher os valores vazios\n",
    "display(tabela.info())"
   ]
  },
  {
   "cell_type": "code",
   "execution_count": null,
   "metadata": {},
   "outputs": [],
   "source": [
    "#p 4: analise incial dos cancelamentos\n",
    "#quantas cancelaram e quantas não cancelaram\n",
    "display(tabela[\"cancelou\"].value_counts()) #contar os valores da coluna cancelou \n",
    "#ver o percentual\n",
    "#display(tabela[\"cancelou\"].value_counts(normalize=True).map(\"{:.1%}\".format))# exibir em formato percentual com 1 cs decimal\n",
    "display(tabela[\"cancelou\"].value_counts(normalize=True))\n"
   ]
  },
  {
   "cell_type": "code",
   "execution_count": null,
   "metadata": {},
   "outputs": [],
   "source": [
    "#passo 5: Analise das causas dos cancelamentos(como as colunas da base impactam no cancelamento)\n",
    "#graficos/dashboard\n",
    "#pip install plotly\n",
    "import plotly.express as px\n",
    "#criar o grafico e depois exibir\n",
    "\n",
    "for coluna in tabela.columns: #para cada coluna na lista de colunas na minha tabela\n",
    "    grafico = px.histogram(tabela, x=coluna, color=\"cancelou\") #cria um grafico para cada coluna \n",
    "    #exibir o grafico\n",
    "    grafico.show()"
   ]
  },
  {
   "cell_type": "code",
   "execution_count": null,
   "metadata": {},
   "outputs": [],
   "source": [
    "# clientes do contrato mensal todos cancelaram\n",
    "#clientes que fizeram mais do que 4 ligações cancelaram\n",
    "#clientes com atraso de mais de 20 dias cancelaram\n",
    "\n",
    "tabela = tabela[tabela[\"duracao_contrato\"]!=\"Monthly\"]\n",
    "tabela = tabela[tabela[\"ligacoes_callcenter\"]]<=4\n",
    "tabela = tabela[tabela[\"dias_atraso\"]]<=20\n",
    "\n",
    "display(tabela[\"cancelou\"].value_counts()) #contar os valores da coluna cancelou \n",
    "display(tabela[\"cancelou\"].value_counts(normalize=True))"
   ]
  }
 ],
 "metadata": {
  "kernelspec": {
   "display_name": "base",
   "language": "python",
   "name": "python3"
  },
  "language_info": {
   "codemirror_mode": {
    "name": "ipython",
    "version": 3
   },
   "file_extension": ".py",
   "mimetype": "text/x-python",
   "name": "python",
   "nbconvert_exporter": "python",
   "pygments_lexer": "ipython3",
   "version": "3.12.0"
  },
  "orig_nbformat": 4
 },
 "nbformat": 4,
 "nbformat_minor": 2
}
